{
  "nbformat": 4,
  "nbformat_minor": 0,
  "metadata": {
    "colab": {
      "name": "Handwrittendigitclassificationwithcnn.ipynb",
      "provenance": [],
      "authorship_tag": "ABX9TyPL2sRrCoDvjs2Xh7TzTWfV",
      "include_colab_link": true
    },
    "kernelspec": {
      "name": "python3",
      "display_name": "Python 3"
    },
    "language_info": {
      "name": "python"
    }
  },
  "cells": [
    {
      "cell_type": "markdown",
      "metadata": {
        "id": "view-in-github",
        "colab_type": "text"
      },
      "source": [
        "<a href=\"https://colab.research.google.com/github/Apoorva2409/Apoorva2409/blob/main/Handwrittendigitclassificationwithcnn.ipynb\" target=\"_parent\"><img src=\"https://colab.research.google.com/assets/colab-badge.svg\" alt=\"Open In Colab\"/></a>"
      ]
    },
    {
      "cell_type": "code",
      "execution_count": 1,
      "metadata": {
        "id": "2oC_UrI9blr7"
      },
      "outputs": [],
      "source": [
        "import numpy as np\n",
        "import matplotlib.pyplot as plt\n",
        "import pandas as pd\n",
        "import matplotlib as mpl\n",
        "%matplotlib inline "
      ]
    },
    {
      "cell_type": "code",
      "source": [
        "import tensorflow as tf\n",
        "from tensorflow import keras"
      ],
      "metadata": {
        "id": "49gVtzw-bpSG"
      },
      "execution_count": 2,
      "outputs": []
    },
    {
      "cell_type": "code",
      "source": [
        "digit_mnist =keras.datasets.mnist\n",
        "(X_train_full,y_train_full),(X_test,y_test)=digit_mnist.load_data()"
      ],
      "metadata": {
        "colab": {
          "base_uri": "https://localhost:8080/"
        },
        "id": "oD9zIIqxbsUx",
        "outputId": "f4b2a066-c655-480c-e833-22dd4c060338"
      },
      "execution_count": 3,
      "outputs": [
        {
          "output_type": "stream",
          "name": "stdout",
          "text": [
            "Downloading data from https://storage.googleapis.com/tensorflow/tf-keras-datasets/mnist.npz\n",
            "11493376/11490434 [==============================] - 0s 0us/step\n",
            "11501568/11490434 [==============================] - 0s 0us/step\n"
          ]
        }
      ]
    },
    {
      "cell_type": "code",
      "source": [
        "X_train_full=X_train_full.reshape(60000,28,28,1)\n",
        "X_test=X_test.reshape(10000,28,28,1)"
      ],
      "metadata": {
        "id": "reCyGmaqb3M3"
      },
      "execution_count": 4,
      "outputs": []
    },
    {
      "cell_type": "code",
      "source": [
        "X_train_n=X_train_full/255.\n",
        "X_test_n=X_test/255."
      ],
      "metadata": {
        "id": "qohjeTHbb5e7"
      },
      "execution_count": 5,
      "outputs": []
    },
    {
      "cell_type": "code",
      "source": [
        "X_valid,X_train=X_train_n[:6000],X_train_n[6000:]\n",
        "y_valid,y_train=y_train_full[:6000],y_train_full[6000:]\n",
        "X_test=X_test_n"
      ],
      "metadata": {
        "id": "6GNt8rUhb62w"
      },
      "execution_count": 6,
      "outputs": []
    },
    {
      "cell_type": "code",
      "source": [
        "np.random.seed(42)#used to replicate same result everytime\n",
        "tf.random.set_seed(42)"
      ],
      "metadata": {
        "id": "RrxgiQz_b983"
      },
      "execution_count": 7,
      "outputs": []
    },
    {
      "cell_type": "code",
      "source": [
        "model=keras.models.Sequential()\n",
        "model.add(keras.layers.Conv2D(filters=32, kernel_size =(3,3), strides =1,padding='valid',activation='relu',input_shape=(28,28,1)))\n",
        "model.add(keras.layers.MaxPooling2D((2,2)))\n",
        "\n",
        "model.add(keras.layers.Flatten())\n",
        "model.add(keras.layers.Dense(200,activation=\"relu\"))\n",
        "model.add(keras.layers.Dense(100,activation=\"relu\"))\n",
        "model.add(keras.layers.Dense(10,activation='softmax'))"
      ],
      "metadata": {
        "id": "6YtGTZmYcAou"
      },
      "execution_count": 8,
      "outputs": []
    },
    {
      "cell_type": "code",
      "source": [
        "model.summary()"
      ],
      "metadata": {
        "colab": {
          "base_uri": "https://localhost:8080/"
        },
        "id": "d_YeoV_ddMNd",
        "outputId": "95a52fc0-8dc2-4a74-865c-2dcbf2268173"
      },
      "execution_count": 9,
      "outputs": [
        {
          "output_type": "stream",
          "name": "stdout",
          "text": [
            "Model: \"sequential\"\n",
            "_________________________________________________________________\n",
            " Layer (type)                Output Shape              Param #   \n",
            "=================================================================\n",
            " conv2d (Conv2D)             (None, 26, 26, 32)        320       \n",
            "                                                                 \n",
            " max_pooling2d (MaxPooling2D  (None, 13, 13, 32)       0         \n",
            " )                                                               \n",
            "                                                                 \n",
            " flatten (Flatten)           (None, 5408)              0         \n",
            "                                                                 \n",
            " dense (Dense)               (None, 200)               1081800   \n",
            "                                                                 \n",
            " dense_1 (Dense)             (None, 100)               20100     \n",
            "                                                                 \n",
            " dense_2 (Dense)             (None, 10)                1010      \n",
            "                                                                 \n",
            "=================================================================\n",
            "Total params: 1,103,230\n",
            "Trainable params: 1,103,230\n",
            "Non-trainable params: 0\n",
            "_________________________________________________________________\n"
          ]
        }
      ]
    },
    {
      "cell_type": "code",
      "source": [
        "model.compile(loss=\"sparse_categorical_crossentropy\",\n",
        "              optimizer=\"sgd\",\n",
        "              metrics=[\"accuracy\"])"
      ],
      "metadata": {
        "id": "dw5NKSFgdRug"
      },
      "execution_count": 10,
      "outputs": []
    },
    {
      "cell_type": "code",
      "source": [
        "model_history=model.fit(X_train,y_train,epochs=60,batch_size=64,\n",
        "                        validation_data=(X_valid,y_valid))"
      ],
      "metadata": {
        "colab": {
          "base_uri": "https://localhost:8080/"
        },
        "id": "kVtv3NvndVt3",
        "outputId": "a5001e71-6524-4872-8873-a5994f9e441e"
      },
      "execution_count": 11,
      "outputs": [
        {
          "output_type": "stream",
          "name": "stdout",
          "text": [
            "Epoch 1/60\n",
            "844/844 [==============================] - 29s 34ms/step - loss: 0.7421 - accuracy: 0.8111 - val_loss: 0.2898 - val_accuracy: 0.9147\n",
            "Epoch 2/60\n",
            "844/844 [==============================] - 29s 34ms/step - loss: 0.2715 - accuracy: 0.9196 - val_loss: 0.2195 - val_accuracy: 0.9385\n",
            "Epoch 3/60\n",
            "844/844 [==============================] - 31s 37ms/step - loss: 0.2108 - accuracy: 0.9370 - val_loss: 0.1760 - val_accuracy: 0.9485\n",
            "Epoch 4/60\n",
            "844/844 [==============================] - 28s 33ms/step - loss: 0.1731 - accuracy: 0.9473 - val_loss: 0.1450 - val_accuracy: 0.9578\n",
            "Epoch 5/60\n",
            "844/844 [==============================] - 33s 39ms/step - loss: 0.1468 - accuracy: 0.9552 - val_loss: 0.1286 - val_accuracy: 0.9610\n",
            "Epoch 6/60\n",
            "844/844 [==============================] - 31s 37ms/step - loss: 0.1280 - accuracy: 0.9615 - val_loss: 0.1178 - val_accuracy: 0.9655\n",
            "Epoch 7/60\n",
            "844/844 [==============================] - 29s 34ms/step - loss: 0.1136 - accuracy: 0.9664 - val_loss: 0.1052 - val_accuracy: 0.9683\n",
            "Epoch 8/60\n",
            "844/844 [==============================] - 30s 36ms/step - loss: 0.1026 - accuracy: 0.9701 - val_loss: 0.0977 - val_accuracy: 0.9710\n",
            "Epoch 9/60\n",
            "844/844 [==============================] - 31s 37ms/step - loss: 0.0937 - accuracy: 0.9719 - val_loss: 0.0906 - val_accuracy: 0.9722\n",
            "Epoch 10/60\n",
            "844/844 [==============================] - 29s 34ms/step - loss: 0.0857 - accuracy: 0.9745 - val_loss: 0.0876 - val_accuracy: 0.9728\n",
            "Epoch 11/60\n",
            "844/844 [==============================] - 29s 34ms/step - loss: 0.0788 - accuracy: 0.9767 - val_loss: 0.0814 - val_accuracy: 0.9733\n",
            "Epoch 12/60\n",
            "844/844 [==============================] - 28s 33ms/step - loss: 0.0733 - accuracy: 0.9782 - val_loss: 0.0789 - val_accuracy: 0.9757\n",
            "Epoch 13/60\n",
            "844/844 [==============================] - 28s 33ms/step - loss: 0.0683 - accuracy: 0.9799 - val_loss: 0.0743 - val_accuracy: 0.9755\n",
            "Epoch 14/60\n",
            "844/844 [==============================] - 29s 34ms/step - loss: 0.0633 - accuracy: 0.9817 - val_loss: 0.0697 - val_accuracy: 0.9788\n",
            "Epoch 15/60\n",
            "844/844 [==============================] - 29s 34ms/step - loss: 0.0598 - accuracy: 0.9826 - val_loss: 0.0721 - val_accuracy: 0.9780\n",
            "Epoch 16/60\n",
            "844/844 [==============================] - 28s 33ms/step - loss: 0.0560 - accuracy: 0.9831 - val_loss: 0.0657 - val_accuracy: 0.9798\n",
            "Epoch 17/60\n",
            "844/844 [==============================] - 28s 33ms/step - loss: 0.0528 - accuracy: 0.9846 - val_loss: 0.0720 - val_accuracy: 0.9795\n",
            "Epoch 18/60\n",
            "844/844 [==============================] - 28s 33ms/step - loss: 0.0492 - accuracy: 0.9853 - val_loss: 0.0623 - val_accuracy: 0.9803\n",
            "Epoch 19/60\n",
            "844/844 [==============================] - 28s 33ms/step - loss: 0.0471 - accuracy: 0.9859 - val_loss: 0.0712 - val_accuracy: 0.9782\n",
            "Epoch 20/60\n",
            "844/844 [==============================] - 28s 33ms/step - loss: 0.0436 - accuracy: 0.9872 - val_loss: 0.0679 - val_accuracy: 0.9797\n",
            "Epoch 21/60\n",
            "844/844 [==============================] - 29s 34ms/step - loss: 0.0418 - accuracy: 0.9873 - val_loss: 0.0624 - val_accuracy: 0.9815\n",
            "Epoch 22/60\n",
            "844/844 [==============================] - 28s 33ms/step - loss: 0.0394 - accuracy: 0.9877 - val_loss: 0.0613 - val_accuracy: 0.9805\n",
            "Epoch 23/60\n",
            "844/844 [==============================] - 28s 33ms/step - loss: 0.0372 - accuracy: 0.9896 - val_loss: 0.0674 - val_accuracy: 0.9803\n",
            "Epoch 24/60\n",
            "844/844 [==============================] - 28s 34ms/step - loss: 0.0351 - accuracy: 0.9899 - val_loss: 0.0589 - val_accuracy: 0.9832\n",
            "Epoch 25/60\n",
            "844/844 [==============================] - 29s 34ms/step - loss: 0.0334 - accuracy: 0.9902 - val_loss: 0.0610 - val_accuracy: 0.9808\n",
            "Epoch 26/60\n",
            "844/844 [==============================] - 29s 34ms/step - loss: 0.0320 - accuracy: 0.9905 - val_loss: 0.0613 - val_accuracy: 0.9813\n",
            "Epoch 27/60\n",
            "844/844 [==============================] - 29s 34ms/step - loss: 0.0296 - accuracy: 0.9916 - val_loss: 0.0561 - val_accuracy: 0.9828\n",
            "Epoch 28/60\n",
            "844/844 [==============================] - 29s 35ms/step - loss: 0.0285 - accuracy: 0.9917 - val_loss: 0.0599 - val_accuracy: 0.9813\n",
            "Epoch 29/60\n",
            "844/844 [==============================] - 28s 33ms/step - loss: 0.0272 - accuracy: 0.9921 - val_loss: 0.0662 - val_accuracy: 0.9805\n",
            "Epoch 30/60\n",
            "844/844 [==============================] - 28s 34ms/step - loss: 0.0257 - accuracy: 0.9927 - val_loss: 0.0560 - val_accuracy: 0.9825\n",
            "Epoch 31/60\n",
            "844/844 [==============================] - 29s 34ms/step - loss: 0.0240 - accuracy: 0.9934 - val_loss: 0.0536 - val_accuracy: 0.9833\n",
            "Epoch 32/60\n",
            "844/844 [==============================] - 28s 34ms/step - loss: 0.0229 - accuracy: 0.9935 - val_loss: 0.0575 - val_accuracy: 0.9822\n",
            "Epoch 33/60\n",
            "844/844 [==============================] - 28s 34ms/step - loss: 0.0216 - accuracy: 0.9940 - val_loss: 0.0604 - val_accuracy: 0.9827\n",
            "Epoch 34/60\n",
            "844/844 [==============================] - 28s 33ms/step - loss: 0.0202 - accuracy: 0.9947 - val_loss: 0.0556 - val_accuracy: 0.9837\n",
            "Epoch 35/60\n",
            "844/844 [==============================] - 29s 35ms/step - loss: 0.0194 - accuracy: 0.9951 - val_loss: 0.0573 - val_accuracy: 0.9817\n",
            "Epoch 36/60\n",
            "844/844 [==============================] - 28s 33ms/step - loss: 0.0183 - accuracy: 0.9953 - val_loss: 0.0654 - val_accuracy: 0.9798\n",
            "Epoch 37/60\n",
            "844/844 [==============================] - 28s 34ms/step - loss: 0.0176 - accuracy: 0.9956 - val_loss: 0.0603 - val_accuracy: 0.9822\n",
            "Epoch 38/60\n",
            "844/844 [==============================] - 28s 33ms/step - loss: 0.0171 - accuracy: 0.9957 - val_loss: 0.0604 - val_accuracy: 0.9808\n",
            "Epoch 39/60\n",
            "844/844 [==============================] - 28s 33ms/step - loss: 0.0159 - accuracy: 0.9960 - val_loss: 0.0586 - val_accuracy: 0.9837\n",
            "Epoch 40/60\n",
            "844/844 [==============================] - 28s 33ms/step - loss: 0.0151 - accuracy: 0.9964 - val_loss: 0.0594 - val_accuracy: 0.9823\n",
            "Epoch 41/60\n",
            "844/844 [==============================] - 28s 33ms/step - loss: 0.0141 - accuracy: 0.9966 - val_loss: 0.0577 - val_accuracy: 0.9833\n",
            "Epoch 42/60\n",
            "844/844 [==============================] - 29s 34ms/step - loss: 0.0136 - accuracy: 0.9968 - val_loss: 0.0568 - val_accuracy: 0.9838\n",
            "Epoch 43/60\n",
            "844/844 [==============================] - 28s 33ms/step - loss: 0.0132 - accuracy: 0.9967 - val_loss: 0.0591 - val_accuracy: 0.9833\n",
            "Epoch 44/60\n",
            "844/844 [==============================] - 28s 33ms/step - loss: 0.0123 - accuracy: 0.9973 - val_loss: 0.0597 - val_accuracy: 0.9828\n",
            "Epoch 45/60\n",
            "844/844 [==============================] - 28s 33ms/step - loss: 0.0116 - accuracy: 0.9974 - val_loss: 0.0575 - val_accuracy: 0.9830\n",
            "Epoch 46/60\n",
            "844/844 [==============================] - 28s 34ms/step - loss: 0.0111 - accuracy: 0.9976 - val_loss: 0.0581 - val_accuracy: 0.9830\n",
            "Epoch 47/60\n",
            "844/844 [==============================] - 29s 34ms/step - loss: 0.0102 - accuracy: 0.9980 - val_loss: 0.0591 - val_accuracy: 0.9830\n",
            "Epoch 48/60\n",
            "844/844 [==============================] - 30s 35ms/step - loss: 0.0097 - accuracy: 0.9982 - val_loss: 0.0583 - val_accuracy: 0.9828\n",
            "Epoch 49/60\n",
            "844/844 [==============================] - 29s 34ms/step - loss: 0.0095 - accuracy: 0.9979 - val_loss: 0.0590 - val_accuracy: 0.9832\n",
            "Epoch 50/60\n",
            "844/844 [==============================] - 29s 34ms/step - loss: 0.0090 - accuracy: 0.9982 - val_loss: 0.0608 - val_accuracy: 0.9840\n",
            "Epoch 51/60\n",
            "844/844 [==============================] - 29s 35ms/step - loss: 0.0084 - accuracy: 0.9985 - val_loss: 0.0619 - val_accuracy: 0.9833\n",
            "Epoch 52/60\n",
            "844/844 [==============================] - 29s 35ms/step - loss: 0.0082 - accuracy: 0.9984 - val_loss: 0.0594 - val_accuracy: 0.9845\n",
            "Epoch 53/60\n",
            "844/844 [==============================] - 29s 34ms/step - loss: 0.0077 - accuracy: 0.9984 - val_loss: 0.0609 - val_accuracy: 0.9835\n",
            "Epoch 54/60\n",
            "844/844 [==============================] - 29s 34ms/step - loss: 0.0076 - accuracy: 0.9986 - val_loss: 0.0596 - val_accuracy: 0.9833\n",
            "Epoch 55/60\n",
            "844/844 [==============================] - 30s 35ms/step - loss: 0.0070 - accuracy: 0.9987 - val_loss: 0.0572 - val_accuracy: 0.9840\n",
            "Epoch 56/60\n",
            "844/844 [==============================] - 29s 34ms/step - loss: 0.0066 - accuracy: 0.9988 - val_loss: 0.0620 - val_accuracy: 0.9837\n",
            "Epoch 57/60\n",
            "844/844 [==============================] - 28s 34ms/step - loss: 0.0064 - accuracy: 0.9989 - val_loss: 0.0603 - val_accuracy: 0.9837\n",
            "Epoch 58/60\n",
            "844/844 [==============================] - 29s 34ms/step - loss: 0.0060 - accuracy: 0.9991 - val_loss: 0.0571 - val_accuracy: 0.9853\n",
            "Epoch 59/60\n",
            "844/844 [==============================] - 29s 34ms/step - loss: 0.0058 - accuracy: 0.9991 - val_loss: 0.0604 - val_accuracy: 0.9840\n",
            "Epoch 60/60\n",
            "844/844 [==============================] - 28s 34ms/step - loss: 0.0055 - accuracy: 0.9992 - val_loss: 0.0614 - val_accuracy: 0.9840\n"
          ]
        }
      ]
    },
    {
      "cell_type": "code",
      "source": [
        "import pandas as pd\n",
        "pd.DataFrame(model_history.history).plot(figsize=(8,5))\n",
        "plt.grid(True)\n",
        "plt.gca().set_ylim(0,1)\n",
        "plt.show()"
      ],
      "metadata": {
        "colab": {
          "base_uri": "https://localhost:8080/",
          "height": 324
        },
        "id": "RujP8gnrkoT5",
        "outputId": "0da231ab-c12f-4113-ba7f-432d063a8e63"
      },
      "execution_count": 12,
      "outputs": [
        {
          "output_type": "display_data",
          "data": {
            "text/plain": [
              "<Figure size 576x360 with 1 Axes>"
            ],
            "image/png": "[encoded data removed]"
          },
          "metadata": {
            "needs_background": "light"
          }
        }
      ]
    },
    {
      "cell_type": "code",
      "source": [
        "ev=model.evaluate(X_test_n,y_test)"
      ],
      "metadata": {
        "colab": {
          "base_uri": "https://localhost:8080/"
        },
        "id": "y2fQw0AhlBH5",
        "outputId": "7a27f480-084d-4e4e-fd05-4e86863dd401"
      },
      "execution_count": 14,
      "outputs": [
        {
          "output_type": "stream",
          "name": "stdout",
          "text": [
            "313/313 [==============================] - 2s 8ms/step - loss: 0.0574 - accuracy: 0.9836\n"
          ]
        }
      ]
    },
    {
      "cell_type": "code",
      "source": [
        "model_B=keras.models.Sequential()\n",
        "model_B.add(keras.layers.Conv2D(filters=64, kernel_size =(3,3), strides =1,padding='valid',activation='relu',input_shape=(28,28,1)))\n",
        "model_B.add(keras.layers.MaxPooling2D((2,2)))\n",
        "\n",
        "model_B.add(keras.layers.Flatten())\n",
        "model_B.add(keras.layers.Dense(200,activation=\"relu\"))\n",
        "model_B.add(keras.layers.Dense(100,activation=\"relu\"))\n",
        "model_B.add(keras.layers.Dense(10,activation='softmax'))"
      ],
      "metadata": {
        "id": "A7WwQb_IfipT"
      },
      "execution_count": 13,
      "outputs": []
    },
    {
      "cell_type": "code",
      "source": [
        "model_B.summary()"
      ],
      "metadata": {
        "colab": {
          "base_uri": "https://localhost:8080/"
        },
        "id": "YKtoTX4Df04b",
        "outputId": "41923e61-14f5-4695-9369-8eb61de4ee27"
      },
      "execution_count": 15,
      "outputs": [
        {
          "output_type": "stream",
          "name": "stdout",
          "text": [
            "Model: \"sequential_1\"\n",
            "_________________________________________________________________\n",
            " Layer (type)                Output Shape              Param #   \n",
            "=================================================================\n",
            " conv2d_1 (Conv2D)           (None, 26, 26, 64)        640       \n",
            "                                                                 \n",
            " max_pooling2d_1 (MaxPooling  (None, 13, 13, 64)       0         \n",
            " 2D)                                                             \n",
            "                                                                 \n",
            " flatten_1 (Flatten)         (None, 10816)             0         \n",
            "                                                                 \n",
            " dense_3 (Dense)             (None, 200)               2163400   \n",
            "                                                                 \n",
            " dense_4 (Dense)             (None, 100)               20100     \n",
            "                                                                 \n",
            " dense_5 (Dense)             (None, 10)                1010      \n",
            "                                                                 \n",
            "=================================================================\n",
            "Total params: 2,185,150\n",
            "Trainable params: 2,185,150\n",
            "Non-trainable params: 0\n",
            "_________________________________________________________________\n"
          ]
        }
      ]
    },
    {
      "cell_type": "code",
      "source": [
        "model_B.compile(loss=\"sparse_categorical_crossentropy\",\n",
        "              optimizer=\"sgd\",\n",
        "              metrics=[\"accuracy\"])"
      ],
      "metadata": {
        "id": "rCk0KNqxf4Sq"
      },
      "execution_count": 16,
      "outputs": []
    },
    {
      "cell_type": "code",
      "source": [
        "model_B_history=model_B.fit(X_train,y_train,epochs=60,batch_size=64,\n",
        "                        validation_data=(X_valid,y_valid))"
      ],
      "metadata": {
        "colab": {
          "base_uri": "https://localhost:8080/"
        },
        "id": "dlwfF85-f-y9",
        "outputId": "19a3deda-8c7b-4224-847a-c00afd46b049"
      },
      "execution_count": 18,
      "outputs": [
        {
          "output_type": "stream",
          "name": "stdout",
          "text": [
            "Epoch 1/60\n",
            "844/844 [==============================] - 60s 71ms/step - loss: 0.0053 - accuracy: 0.9993 - val_loss: 0.0620 - val_accuracy: 0.9833\n",
            "Epoch 2/60\n",
            "844/844 [==============================] - 47s 56ms/step - loss: 0.0050 - accuracy: 0.9993 - val_loss: 0.0661 - val_accuracy: 0.9827\n",
            "Epoch 3/60\n",
            "844/844 [==============================] - 50s 60ms/step - loss: 0.0051 - accuracy: 0.9992 - val_loss: 0.0662 - val_accuracy: 0.9850\n",
            "Epoch 4/60\n",
            "844/844 [==============================] - 48s 57ms/step - loss: 0.0048 - accuracy: 0.9993 - val_loss: 0.0669 - val_accuracy: 0.9830\n",
            "Epoch 5/60\n",
            "844/844 [==============================] - 47s 56ms/step - loss: 0.0044 - accuracy: 0.9994 - val_loss: 0.0668 - val_accuracy: 0.9830\n",
            "Epoch 6/60\n",
            "844/844 [==============================] - 48s 57ms/step - loss: 0.0040 - accuracy: 0.9996 - val_loss: 0.0660 - val_accuracy: 0.9830\n",
            "Epoch 7/60\n",
            "844/844 [==============================] - 49s 58ms/step - loss: 0.0040 - accuracy: 0.9995 - val_loss: 0.0655 - val_accuracy: 0.9840\n",
            "Epoch 8/60\n",
            "844/844 [==============================] - 48s 56ms/step - loss: 0.0038 - accuracy: 0.9995 - val_loss: 0.0655 - val_accuracy: 0.9833\n",
            "Epoch 9/60\n",
            "844/844 [==============================] - 47s 56ms/step - loss: 0.0037 - accuracy: 0.9996 - val_loss: 0.0662 - val_accuracy: 0.9833\n",
            "Epoch 10/60\n",
            "844/844 [==============================] - 47s 56ms/step - loss: 0.0033 - accuracy: 0.9997 - val_loss: 0.0661 - val_accuracy: 0.9832\n",
            "Epoch 11/60\n",
            "844/844 [==============================] - 47s 56ms/step - loss: 0.0031 - accuracy: 0.9999 - val_loss: 0.0647 - val_accuracy: 0.9828\n",
            "Epoch 12/60\n",
            "844/844 [==============================] - 49s 58ms/step - loss: 0.0031 - accuracy: 0.9998 - val_loss: 0.0671 - val_accuracy: 0.9838\n",
            "Epoch 13/60\n",
            "844/844 [==============================] - 48s 57ms/step - loss: 0.0029 - accuracy: 0.9998 - val_loss: 0.0658 - val_accuracy: 0.9838\n",
            "Epoch 14/60\n",
            "844/844 [==============================] - 48s 56ms/step - loss: 0.0029 - accuracy: 0.9998 - val_loss: 0.0672 - val_accuracy: 0.9832\n",
            "Epoch 15/60\n",
            "844/844 [==============================] - 48s 57ms/step - loss: 0.0026 - accuracy: 0.9999 - val_loss: 0.0665 - val_accuracy: 0.9838\n",
            "Epoch 16/60\n",
            "844/844 [==============================] - 49s 58ms/step - loss: 0.0024 - accuracy: 0.9999 - val_loss: 0.0678 - val_accuracy: 0.9828\n",
            "Epoch 17/60\n",
            "844/844 [==============================] - 48s 57ms/step - loss: 0.0025 - accuracy: 0.9998 - val_loss: 0.0676 - val_accuracy: 0.9837\n",
            "Epoch 18/60\n",
            "844/844 [==============================] - 48s 57ms/step - loss: 0.0024 - accuracy: 0.9999 - val_loss: 0.0674 - val_accuracy: 0.9833\n",
            "Epoch 19/60\n",
            "844/844 [==============================] - 48s 57ms/step - loss: 0.0023 - accuracy: 0.9999 - val_loss: 0.0684 - val_accuracy: 0.9838\n",
            "Epoch 20/60\n",
            "844/844 [==============================] - 49s 58ms/step - loss: 0.0024 - accuracy: 0.9998 - val_loss: 0.0711 - val_accuracy: 0.9832\n",
            "Epoch 21/60\n",
            "844/844 [==============================] - 48s 57ms/step - loss: 0.0022 - accuracy: 0.9998 - val_loss: 0.0695 - val_accuracy: 0.9827\n",
            "Epoch 22/60\n",
            "844/844 [==============================] - 48s 57ms/step - loss: 0.0021 - accuracy: 0.9999 - val_loss: 0.0685 - val_accuracy: 0.9833\n",
            "Epoch 23/60\n",
            "844/844 [==============================] - 48s 57ms/step - loss: 0.0020 - accuracy: 0.9999 - val_loss: 0.0700 - val_accuracy: 0.9830\n",
            "Epoch 24/60\n",
            "844/844 [==============================] - 49s 58ms/step - loss: 0.0019 - accuracy: 1.0000 - val_loss: 0.0688 - val_accuracy: 0.9835\n",
            "Epoch 25/60\n",
            "844/844 [==============================] - 48s 57ms/step - loss: 0.0019 - accuracy: 0.9999 - val_loss: 0.0716 - val_accuracy: 0.9825\n",
            "Epoch 26/60\n",
            "844/844 [==============================] - 48s 57ms/step - loss: 0.0018 - accuracy: 0.9999 - val_loss: 0.0697 - val_accuracy: 0.9840\n",
            "Epoch 27/60\n",
            "844/844 [==============================] - 48s 57ms/step - loss: 0.0017 - accuracy: 0.9999 - val_loss: 0.0705 - val_accuracy: 0.9840\n",
            "Epoch 28/60\n",
            "844/844 [==============================] - 49s 58ms/step - loss: 0.0017 - accuracy: 1.0000 - val_loss: 0.0705 - val_accuracy: 0.9837\n",
            "Epoch 29/60\n",
            "844/844 [==============================] - 48s 57ms/step - loss: 0.0017 - accuracy: 0.9999 - val_loss: 0.0721 - val_accuracy: 0.9827\n",
            "Epoch 30/60\n",
            "844/844 [==============================] - 48s 57ms/step - loss: 0.0015 - accuracy: 1.0000 - val_loss: 0.0712 - val_accuracy: 0.9830\n",
            "Epoch 31/60\n",
            "844/844 [==============================] - 48s 57ms/step - loss: 0.0015 - accuracy: 1.0000 - val_loss: 0.0699 - val_accuracy: 0.9838\n",
            "Epoch 32/60\n",
            "844/844 [==============================] - 49s 58ms/step - loss: 0.0015 - accuracy: 1.0000 - val_loss: 0.0715 - val_accuracy: 0.9838\n",
            "Epoch 33/60\n",
            "844/844 [==============================] - 48s 57ms/step - loss: 0.0014 - accuracy: 1.0000 - val_loss: 0.0717 - val_accuracy: 0.9835\n",
            "Epoch 34/60\n",
            "844/844 [==============================] - 48s 57ms/step - loss: 0.0014 - accuracy: 1.0000 - val_loss: 0.0717 - val_accuracy: 0.9830\n",
            "Epoch 35/60\n",
            "844/844 [==============================] - 48s 57ms/step - loss: 0.0014 - accuracy: 1.0000 - val_loss: 0.0703 - val_accuracy: 0.9835\n",
            "Epoch 36/60\n",
            "844/844 [==============================] - 49s 58ms/step - loss: 0.0013 - accuracy: 1.0000 - val_loss: 0.0762 - val_accuracy: 0.9823\n",
            "Epoch 37/60\n",
            "844/844 [==============================] - 48s 57ms/step - loss: 0.0013 - accuracy: 1.0000 - val_loss: 0.0730 - val_accuracy: 0.9830\n",
            "Epoch 38/60\n",
            "844/844 [==============================] - 48s 57ms/step - loss: 0.0013 - accuracy: 1.0000 - val_loss: 0.0725 - val_accuracy: 0.9835\n",
            "Epoch 39/60\n",
            "844/844 [==============================] - 48s 57ms/step - loss: 0.0012 - accuracy: 1.0000 - val_loss: 0.0722 - val_accuracy: 0.9837\n",
            "Epoch 40/60\n",
            "844/844 [==============================] - 48s 57ms/step - loss: 0.0012 - accuracy: 1.0000 - val_loss: 0.0733 - val_accuracy: 0.9832\n",
            "Epoch 41/60\n",
            "844/844 [==============================] - 49s 58ms/step - loss: 0.0012 - accuracy: 1.0000 - val_loss: 0.0730 - val_accuracy: 0.9830\n",
            "Epoch 42/60\n",
            "844/844 [==============================] - 48s 57ms/step - loss: 0.0012 - accuracy: 1.0000 - val_loss: 0.0733 - val_accuracy: 0.9832\n",
            "Epoch 43/60\n",
            "844/844 [==============================] - 48s 57ms/step - loss: 0.0011 - accuracy: 1.0000 - val_loss: 0.0756 - val_accuracy: 0.9828\n",
            "Epoch 44/60\n",
            "844/844 [==============================] - 50s 59ms/step - loss: 0.0011 - accuracy: 1.0000 - val_loss: 0.0732 - val_accuracy: 0.9833\n",
            "Epoch 45/60\n",
            "844/844 [==============================] - 50s 59ms/step - loss: 0.0011 - accuracy: 1.0000 - val_loss: 0.0727 - val_accuracy: 0.9842\n",
            "Epoch 46/60\n",
            "844/844 [==============================] - 48s 57ms/step - loss: 0.0011 - accuracy: 1.0000 - val_loss: 0.0729 - val_accuracy: 0.9832\n",
            "Epoch 47/60\n",
            "844/844 [==============================] - 48s 57ms/step - loss: 0.0011 - accuracy: 1.0000 - val_loss: 0.0735 - val_accuracy: 0.9837\n",
            "Epoch 48/60\n",
            "844/844 [==============================] - 48s 57ms/step - loss: 9.9554e-04 - accuracy: 1.0000 - val_loss: 0.0733 - val_accuracy: 0.9828\n",
            "Epoch 49/60\n",
            "844/844 [==============================] - 49s 59ms/step - loss: 9.7154e-04 - accuracy: 1.0000 - val_loss: 0.0743 - val_accuracy: 0.9830\n",
            "Epoch 50/60\n",
            "844/844 [==============================] - 48s 57ms/step - loss: 9.6407e-04 - accuracy: 1.0000 - val_loss: 0.0753 - val_accuracy: 0.9823\n",
            "Epoch 51/60\n",
            "844/844 [==============================] - 48s 57ms/step - loss: 9.6164e-04 - accuracy: 1.0000 - val_loss: 0.0749 - val_accuracy: 0.9832\n",
            "Epoch 52/60\n",
            "844/844 [==============================] - 48s 57ms/step - loss: 9.3474e-04 - accuracy: 1.0000 - val_loss: 0.0739 - val_accuracy: 0.9842\n",
            "Epoch 53/60\n",
            "844/844 [==============================] - 49s 58ms/step - loss: 9.0593e-04 - accuracy: 1.0000 - val_loss: 0.0742 - val_accuracy: 0.9833\n",
            "Epoch 54/60\n",
            "844/844 [==============================] - 48s 57ms/step - loss: 8.9256e-04 - accuracy: 1.0000 - val_loss: 0.0749 - val_accuracy: 0.9832\n",
            "Epoch 55/60\n",
            "844/844 [==============================] - 49s 58ms/step - loss: 8.9278e-04 - accuracy: 1.0000 - val_loss: 0.0748 - val_accuracy: 0.9833\n",
            "Epoch 56/60\n",
            "844/844 [==============================] - 48s 57ms/step - loss: 8.6553e-04 - accuracy: 1.0000 - val_loss: 0.0741 - val_accuracy: 0.9838\n",
            "Epoch 57/60\n",
            "844/844 [==============================] - 49s 59ms/step - loss: 8.5233e-04 - accuracy: 1.0000 - val_loss: 0.0756 - val_accuracy: 0.9828\n",
            "Epoch 58/60\n",
            "844/844 [==============================] - 49s 57ms/step - loss: 8.5201e-04 - accuracy: 1.0000 - val_loss: 0.0751 - val_accuracy: 0.9837\n",
            "Epoch 59/60\n",
            "844/844 [==============================] - 49s 58ms/step - loss: 8.2293e-04 - accuracy: 1.0000 - val_loss: 0.0758 - val_accuracy: 0.9835\n",
            "Epoch 60/60\n",
            "844/844 [==============================] - 49s 57ms/step - loss: 7.9404e-04 - accuracy: 1.0000 - val_loss: 0.0763 - val_accuracy: 0.9835\n"
          ]
        }
      ]
    },
    {
      "cell_type": "code",
      "source": [
        "import pandas as pd\n",
        "pd.DataFrame(model_history.history).plot(figsize=(8,5))\n",
        "plt.grid(True)\n",
        "plt.gca().set_ylim(0,1)\n",
        "plt.show()"
      ],
      "metadata": {
        "colab": {
          "base_uri": "https://localhost:8080/",
          "height": 324
        },
        "id": "Or4wmKkxgJ78",
        "outputId": "ea3169cd-adc1-4b3a-9c98-ff54aa0e5387"
      },
      "execution_count": 19,
      "outputs": [
        {
          "output_type": "display_data",
          "data": {
            "text/plain": [
              "<Figure size 576x360 with 1 Axes>"
            ],
            "image/png": "[encoded data removed]"
          },
          "metadata": {
            "needs_background": "light"
          }
        }
      ]
    },
    {
      "cell_type": "code",
      "source": [
        "ev=model_B.evaluate(X_test_n,y_test)"
      ],
      "metadata": {
        "colab": {
          "base_uri": "https://localhost:8080/"
        },
        "id": "tAjRdJgBgMVb",
        "outputId": "a520a5b3-fd9e-42f7-90af-bb25fae9467c"
      },
      "execution_count": 20,
      "outputs": [
        {
          "output_type": "stream",
          "name": "stdout",
          "text": [
            "313/313 [==============================] - 3s 10ms/step - loss: 0.0615 - accuracy: 0.9844\n"
          ]
        }
      ]
    }
  ]
}