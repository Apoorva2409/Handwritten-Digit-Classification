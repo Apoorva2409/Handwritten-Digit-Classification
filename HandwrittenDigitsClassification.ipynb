{
  "nbformat": 4,
  "nbformat_minor": 0,
  "metadata": {
    "colab": {
      "name": "HandwrittenDigitsClassification.ipynb",
      "provenance": [],
      "authorship_tag": "ABX9TyNfW2oE7ASm7lIrMoM8QPtX",
      "include_colab_link": true
    },
    "kernelspec": {
      "name": "python3",
      "display_name": "Python 3"
    },
    "language_info": {
      "name": "python"
    }
  },
  "cells": [
    {
      "cell_type": "markdown",
      "metadata": {
        "id": "view-in-github",
        "colab_type": "text"
      },
      "source": [
        "<a href=\"https://colab.research.google.com/github/Apoorva2409/Apoorva2409/blob/main/HandwrittenDigitsClassification.ipynb\" target=\"_parent\"><img src=\"https://colab.research.google.com/assets/colab-badge.svg\" alt=\"Open In Colab\"/></a>"
      ]
    },
    {
      "cell_type": "code",
      "execution_count": 3,
      "metadata": {
        "id": "v7y5zBIrZBTT"
      },
      "outputs": [],
      "source": [
        "import numpy as np\n",
        "import matplotlib.pyplot as plt\n",
        "import pandas as pd\n",
        "import matplotlib as mpl\n",
        "%matplotlib inline "
      ]
    },
    {
      "cell_type": "code",
      "source": [
        "import tensorflow as tf\n",
        "from tensorflow import keras"
      ],
      "metadata": {
        "id": "n627H-fwZFaG"
      },
      "execution_count": 2,
      "outputs": []
    },
    {
      "cell_type": "code",
      "source": [
        "digit_mnist = keras.datasets.mnist\n",
        "(X_train_full, y_train_full), (X_test, y_test)=digit_mnist.load_data()"
      ],
      "metadata": {
        "colab": {
          "base_uri": "https://localhost:8080/"
        },
        "id": "f8ED7T7iZKlp",
        "outputId": "de37d556-1c68-4a7d-ac05-9ea52cf2c977"
      },
      "execution_count": 4,
      "outputs": [
        {
          "output_type": "stream",
          "name": "stdout",
          "text": [
            "Downloading data from https://storage.googleapis.com/tensorflow/tf-keras-datasets/mnist.npz\n",
            "11493376/11490434 [==============================] - 0s 0us/step\n",
            "11501568/11490434 [==============================] - 0s 0us/step\n"
          ]
        }
      ]
    },
    {
      "cell_type": "code",
      "source": [
        "plt.imshow(X_train_full[1])"
      ],
      "metadata": {
        "colab": {
          "base_uri": "https://localhost:8080/",
          "height": 283
        },
        "id": "efwHeMnmaSwR",
        "outputId": "32037b90-93e9-42ef-f704-7e1616489061"
      },
      "execution_count": 5,
      "outputs": [
        {
          "output_type": "execute_result",
          "data": {
            "text/plain": [
              "<matplotlib.image.AxesImage at 0x7fd7d133b810>"
            ]
          },
          "metadata": {},
          "execution_count": 5
        },
        {
          "output_type": "display_data",
          "data": {
            "text/plain": [
              "<Figure size 432x288 with 1 Axes>"
            ],
            "image/png": "[encoded data removed]"
          },
          "metadata": {
            "needs_background": "light"
          }
        }
      ]
    },
    {
      "cell_type": "code",
      "source": [
        "y_train_full[1]"
      ],
      "metadata": {
        "colab": {
          "base_uri": "https://localhost:8080/"
        },
        "id": "gsX4wdQ8Xzag",
        "outputId": "74491272-34b9-465c-83e2-c457111aad3b"
      },
      "execution_count": 6,
      "outputs": [
        {
          "output_type": "execute_result",
          "data": {
            "text/plain": [
              "0"
            ]
          },
          "metadata": {},
          "execution_count": 6
        }
      ]
    },
    {
      "cell_type": "markdown",
      "source": [
        "**Data Normalization**"
      ],
      "metadata": {
        "id": "RdJF_cUwYwXr"
      }
    },
    {
      "cell_type": "code",
      "source": [
        "X_train_n=X_train_full/255.\n",
        "X_test_n=X_test/255."
      ],
      "metadata": {
        "id": "UAC0OolNYK2f"
      },
      "execution_count": 7,
      "outputs": []
    },
    {
      "cell_type": "markdown",
      "source": [
        "**spliting data into test and validation**"
      ],
      "metadata": {
        "id": "oIwPBgGwZ9mZ"
      }
    },
    {
      "cell_type": "code",
      "source": [
        "X_valid,X_train=X_train_n[:6000],X_train_n[6000:]\n",
        "y_valid,y_train=y_train_full[:6000],y_train_full[6000:]\n",
        "X_test=X_test_n"
      ],
      "metadata": {
        "id": "1JTbkUduaMSi"
      },
      "execution_count": 8,
      "outputs": []
    },
    {
      "cell_type": "code",
      "source": [
        "X_valid"
      ],
      "metadata": {
        "id": "Z4NazbFPewv8",
        "outputId": "8093f20c-aaa6-4e00-8e3e-9249f0f30e30",
        "colab": {
          "base_uri": "https://localhost:8080/"
        }
      },
      "execution_count": 9,
      "outputs": [
        {
          "output_type": "execute_result",
          "data": {
            "text/plain": [
              "array([[[0., 0., 0., ..., 0., 0., 0.],\n",
              "        [0., 0., 0., ..., 0., 0., 0.],\n",
              "        [0., 0., 0., ..., 0., 0., 0.],\n",
              "        ...,\n",
              "        [0., 0., 0., ..., 0., 0., 0.],\n",
              "        [0., 0., 0., ..., 0., 0., 0.],\n",
              "        [0., 0., 0., ..., 0., 0., 0.]],\n",
              "\n",
              "       [[0., 0., 0., ..., 0., 0., 0.],\n",
              "        [0., 0., 0., ..., 0., 0., 0.],\n",
              "        [0., 0., 0., ..., 0., 0., 0.],\n",
              "        ...,\n",
              "        [0., 0., 0., ..., 0., 0., 0.],\n",
              "        [0., 0., 0., ..., 0., 0., 0.],\n",
              "        [0., 0., 0., ..., 0., 0., 0.]],\n",
              "\n",
              "       [[0., 0., 0., ..., 0., 0., 0.],\n",
              "        [0., 0., 0., ..., 0., 0., 0.],\n",
              "        [0., 0., 0., ..., 0., 0., 0.],\n",
              "        ...,\n",
              "        [0., 0., 0., ..., 0., 0., 0.],\n",
              "        [0., 0., 0., ..., 0., 0., 0.],\n",
              "        [0., 0., 0., ..., 0., 0., 0.]],\n",
              "\n",
              "       ...,\n",
              "\n",
              "       [[0., 0., 0., ..., 0., 0., 0.],\n",
              "        [0., 0., 0., ..., 0., 0., 0.],\n",
              "        [0., 0., 0., ..., 0., 0., 0.],\n",
              "        ...,\n",
              "        [0., 0., 0., ..., 0., 0., 0.],\n",
              "        [0., 0., 0., ..., 0., 0., 0.],\n",
              "        [0., 0., 0., ..., 0., 0., 0.]],\n",
              "\n",
              "       [[0., 0., 0., ..., 0., 0., 0.],\n",
              "        [0., 0., 0., ..., 0., 0., 0.],\n",
              "        [0., 0., 0., ..., 0., 0., 0.],\n",
              "        ...,\n",
              "        [0., 0., 0., ..., 0., 0., 0.],\n",
              "        [0., 0., 0., ..., 0., 0., 0.],\n",
              "        [0., 0., 0., ..., 0., 0., 0.]],\n",
              "\n",
              "       [[0., 0., 0., ..., 0., 0., 0.],\n",
              "        [0., 0., 0., ..., 0., 0., 0.],\n",
              "        [0., 0., 0., ..., 0., 0., 0.],\n",
              "        ...,\n",
              "        [0., 0., 0., ..., 0., 0., 0.],\n",
              "        [0., 0., 0., ..., 0., 0., 0.],\n",
              "        [0., 0., 0., ..., 0., 0., 0.]]])"
            ]
          },
          "metadata": {},
          "execution_count": 9
        }
      ]
    },
    {
      "cell_type": "code",
      "source": [
        "np.random.seed(42)#used to replicate same result everytime\n",
        "tf.random.set_seed(42)"
      ],
      "metadata": {
        "id": "IfYiCNijuQ1D"
      },
      "execution_count": 10,
      "outputs": []
    },
    {
      "cell_type": "code",
      "source": [
        "model=keras.models.Sequential()\n",
        "model.add(keras.layers.Flatten(input_shape=[28,28]))\n",
        "model.add(keras.layers.Dense(200,activation=\"relu\"))\n",
        "model.add(keras.layers.Dense(100,activation=\"relu\"))\n",
        "model.add(keras.layers.Dense(10,activation='softmax'))\n"
      ],
      "metadata": {
        "id": "PyRQfjBqwDZE"
      },
      "execution_count": 30,
      "outputs": []
    },
    {
      "cell_type": "code",
      "source": [
        "model.summary()\n"
      ],
      "metadata": {
        "colab": {
          "base_uri": "https://localhost:8080/"
        },
        "id": "mfeXjM6MyMsl",
        "outputId": "506998fc-446f-4976-f6e8-d609e72ba98a"
      },
      "execution_count": 31,
      "outputs": [
        {
          "output_type": "stream",
          "name": "stdout",
          "text": [
            "Model: \"sequential_3\"\n",
            "_________________________________________________________________\n",
            " Layer (type)                Output Shape              Param #   \n",
            "=================================================================\n",
            " flatten_3 (Flatten)         (None, 784)               0         \n",
            "                                                                 \n",
            " dense_7 (Dense)             (None, 200)               157000    \n",
            "                                                                 \n",
            " dense_8 (Dense)             (None, 100)               20100     \n",
            "                                                                 \n",
            " dense_9 (Dense)             (None, 10)                1010      \n",
            "                                                                 \n",
            "=================================================================\n",
            "Total params: 178,110\n",
            "Trainable params: 178,110\n",
            "Non-trainable params: 0\n",
            "_________________________________________________________________\n"
          ]
        }
      ]
    },
    {
      "cell_type": "code",
      "source": [
        "import pydot\n",
        "keras.utils.plot_model(model)\n"
      ],
      "metadata": {
        "colab": {
          "base_uri": "https://localhost:8080/",
          "height": 466
        },
        "id": "Q_Do_Y6-ykQV",
        "outputId": "2c88d130-7d06-45a8-ae57-4ca38273ddc5"
      },
      "execution_count": 32,
      "outputs": [
        {
          "output_type": "execute_result",
          "data": {
            "text/plain": [
              "<IPython.core.display.Image object>"
            ],
            "image/png": "[encoded data removed]"
          },
          "metadata": {},
          "execution_count": 32
        }
      ]
    },
    {
      "cell_type": "code",
      "source": [
        "model.compile(loss=\"sparse_categorical_crossentropy\",\n",
        "              optimizer=\"sgd\",\n",
        "              metrics=[\"accuracy\"])"
      ],
      "metadata": {
        "id": "FdR1g42lz3Qx"
      },
      "execution_count": 33,
      "outputs": []
    },
    {
      "cell_type": "code",
      "source": [
        "model_history=model.fit(X_train,y_train,epochs=60,\n",
        "                        validation_data=(X_valid,y_valid))"
      ],
      "metadata": {
        "colab": {
          "base_uri": "https://localhost:8080/"
        },
        "id": "l5fY7HzZ06W1",
        "outputId": "80a17fe1-c046-4c00-94ee-8f758cf7efd2"
      },
      "execution_count": 34,
      "outputs": [
        {
          "output_type": "stream",
          "name": "stdout",
          "text": [
            "Epoch 1/60\n",
            "1688/1688 [==============================] - 6s 3ms/step - loss: 0.6436 - accuracy: 0.8296 - val_loss: 0.3199 - val_accuracy: 0.9107\n",
            "Epoch 2/60\n",
            "1688/1688 [==============================] - 5s 3ms/step - loss: 0.2996 - accuracy: 0.9143 - val_loss: 0.2544 - val_accuracy: 0.9275\n",
            "Epoch 3/60\n",
            "1688/1688 [==============================] - 5s 3ms/step - loss: 0.2462 - accuracy: 0.9293 - val_loss: 0.2193 - val_accuracy: 0.9380\n",
            "Epoch 4/60\n",
            "1688/1688 [==============================] - 5s 3ms/step - loss: 0.2107 - accuracy: 0.9399 - val_loss: 0.1901 - val_accuracy: 0.9478\n",
            "Epoch 5/60\n",
            "1688/1688 [==============================] - 5s 3ms/step - loss: 0.1844 - accuracy: 0.9477 - val_loss: 0.1712 - val_accuracy: 0.9525\n",
            "Epoch 6/60\n",
            "1688/1688 [==============================] - 5s 3ms/step - loss: 0.1644 - accuracy: 0.9529 - val_loss: 0.1554 - val_accuracy: 0.9563\n",
            "Epoch 7/60\n",
            "1688/1688 [==============================] - 5s 3ms/step - loss: 0.1482 - accuracy: 0.9584 - val_loss: 0.1410 - val_accuracy: 0.9638\n",
            "Epoch 8/60\n",
            "1688/1688 [==============================] - 5s 3ms/step - loss: 0.1349 - accuracy: 0.9620 - val_loss: 0.1344 - val_accuracy: 0.9647\n",
            "Epoch 9/60\n",
            "1688/1688 [==============================] - 5s 3ms/step - loss: 0.1236 - accuracy: 0.9646 - val_loss: 0.1250 - val_accuracy: 0.9668\n",
            "Epoch 10/60\n",
            "1688/1688 [==============================] - 5s 3ms/step - loss: 0.1135 - accuracy: 0.9683 - val_loss: 0.1218 - val_accuracy: 0.9678\n",
            "Epoch 11/60\n",
            "1688/1688 [==============================] - 5s 3ms/step - loss: 0.1049 - accuracy: 0.9709 - val_loss: 0.1103 - val_accuracy: 0.9697\n",
            "Epoch 12/60\n",
            "1688/1688 [==============================] - 5s 3ms/step - loss: 0.0975 - accuracy: 0.9732 - val_loss: 0.1075 - val_accuracy: 0.9717\n",
            "Epoch 13/60\n",
            "1688/1688 [==============================] - 5s 3ms/step - loss: 0.0905 - accuracy: 0.9751 - val_loss: 0.1020 - val_accuracy: 0.9725\n",
            "Epoch 14/60\n",
            "1688/1688 [==============================] - 5s 3ms/step - loss: 0.0844 - accuracy: 0.9765 - val_loss: 0.0973 - val_accuracy: 0.9740\n",
            "Epoch 15/60\n",
            "1688/1688 [==============================] - 5s 3ms/step - loss: 0.0791 - accuracy: 0.9785 - val_loss: 0.0947 - val_accuracy: 0.9738\n",
            "Epoch 16/60\n",
            "1688/1688 [==============================] - 5s 3ms/step - loss: 0.0741 - accuracy: 0.9796 - val_loss: 0.0912 - val_accuracy: 0.9735\n",
            "Epoch 17/60\n",
            "1688/1688 [==============================] - 5s 3ms/step - loss: 0.0695 - accuracy: 0.9811 - val_loss: 0.0893 - val_accuracy: 0.9752\n",
            "Epoch 18/60\n",
            "1688/1688 [==============================] - 5s 3ms/step - loss: 0.0649 - accuracy: 0.9824 - val_loss: 0.0855 - val_accuracy: 0.9757\n",
            "Epoch 19/60\n",
            "1688/1688 [==============================] - 5s 3ms/step - loss: 0.0614 - accuracy: 0.9831 - val_loss: 0.0862 - val_accuracy: 0.9747\n",
            "Epoch 20/60\n",
            "1688/1688 [==============================] - 5s 3ms/step - loss: 0.0576 - accuracy: 0.9843 - val_loss: 0.0836 - val_accuracy: 0.9750\n",
            "Epoch 21/60\n",
            "1688/1688 [==============================] - 5s 3ms/step - loss: 0.0545 - accuracy: 0.9855 - val_loss: 0.0814 - val_accuracy: 0.9760\n",
            "Epoch 22/60\n",
            "1688/1688 [==============================] - 5s 3ms/step - loss: 0.0514 - accuracy: 0.9864 - val_loss: 0.0797 - val_accuracy: 0.9768\n",
            "Epoch 23/60\n",
            "1688/1688 [==============================] - 5s 3ms/step - loss: 0.0487 - accuracy: 0.9870 - val_loss: 0.0801 - val_accuracy: 0.9748\n",
            "Epoch 24/60\n",
            "1688/1688 [==============================] - 5s 3ms/step - loss: 0.0458 - accuracy: 0.9876 - val_loss: 0.0787 - val_accuracy: 0.9767\n",
            "Epoch 25/60\n",
            "1688/1688 [==============================] - 5s 3ms/step - loss: 0.0434 - accuracy: 0.9888 - val_loss: 0.0787 - val_accuracy: 0.9755\n",
            "Epoch 26/60\n",
            "1688/1688 [==============================] - 5s 3ms/step - loss: 0.0409 - accuracy: 0.9895 - val_loss: 0.0779 - val_accuracy: 0.9745\n",
            "Epoch 27/60\n",
            "1688/1688 [==============================] - 5s 3ms/step - loss: 0.0388 - accuracy: 0.9903 - val_loss: 0.0754 - val_accuracy: 0.9747\n",
            "Epoch 28/60\n",
            "1688/1688 [==============================] - 5s 3ms/step - loss: 0.0370 - accuracy: 0.9907 - val_loss: 0.0747 - val_accuracy: 0.9765\n",
            "Epoch 29/60\n",
            "1688/1688 [==============================] - 5s 3ms/step - loss: 0.0349 - accuracy: 0.9912 - val_loss: 0.0733 - val_accuracy: 0.9768\n",
            "Epoch 30/60\n",
            "1688/1688 [==============================] - 5s 3ms/step - loss: 0.0331 - accuracy: 0.9919 - val_loss: 0.0745 - val_accuracy: 0.9755\n",
            "Epoch 31/60\n",
            "1688/1688 [==============================] - 5s 3ms/step - loss: 0.0315 - accuracy: 0.9922 - val_loss: 0.0727 - val_accuracy: 0.9768\n",
            "Epoch 32/60\n",
            "1688/1688 [==============================] - 5s 3ms/step - loss: 0.0299 - accuracy: 0.9929 - val_loss: 0.0739 - val_accuracy: 0.9767\n",
            "Epoch 33/60\n",
            "1688/1688 [==============================] - 5s 3ms/step - loss: 0.0284 - accuracy: 0.9936 - val_loss: 0.0741 - val_accuracy: 0.9763\n",
            "Epoch 34/60\n",
            "1688/1688 [==============================] - 5s 3ms/step - loss: 0.0270 - accuracy: 0.9938 - val_loss: 0.0725 - val_accuracy: 0.9768\n",
            "Epoch 35/60\n",
            "1688/1688 [==============================] - 5s 3ms/step - loss: 0.0255 - accuracy: 0.9944 - val_loss: 0.0721 - val_accuracy: 0.9773\n",
            "Epoch 36/60\n",
            "1688/1688 [==============================] - 5s 3ms/step - loss: 0.0243 - accuracy: 0.9949 - val_loss: 0.0770 - val_accuracy: 0.9757\n",
            "Epoch 37/60\n",
            "1688/1688 [==============================] - 5s 3ms/step - loss: 0.0233 - accuracy: 0.9950 - val_loss: 0.0727 - val_accuracy: 0.9765\n",
            "Epoch 38/60\n",
            "1688/1688 [==============================] - 5s 3ms/step - loss: 0.0220 - accuracy: 0.9958 - val_loss: 0.0732 - val_accuracy: 0.9768\n",
            "Epoch 39/60\n",
            "1688/1688 [==============================] - 5s 3ms/step - loss: 0.0210 - accuracy: 0.9959 - val_loss: 0.0721 - val_accuracy: 0.9773\n",
            "Epoch 40/60\n",
            "1688/1688 [==============================] - 5s 3ms/step - loss: 0.0199 - accuracy: 0.9964 - val_loss: 0.0714 - val_accuracy: 0.9777\n",
            "Epoch 41/60\n",
            "1688/1688 [==============================] - 5s 3ms/step - loss: 0.0190 - accuracy: 0.9968 - val_loss: 0.0715 - val_accuracy: 0.9772\n",
            "Epoch 42/60\n",
            "1688/1688 [==============================] - 5s 3ms/step - loss: 0.0182 - accuracy: 0.9967 - val_loss: 0.0736 - val_accuracy: 0.9757\n",
            "Epoch 43/60\n",
            "1688/1688 [==============================] - 5s 3ms/step - loss: 0.0172 - accuracy: 0.9970 - val_loss: 0.0736 - val_accuracy: 0.9772\n",
            "Epoch 44/60\n",
            "1688/1688 [==============================] - 5s 3ms/step - loss: 0.0165 - accuracy: 0.9973 - val_loss: 0.0719 - val_accuracy: 0.9778\n",
            "Epoch 45/60\n",
            "1688/1688 [==============================] - 5s 3ms/step - loss: 0.0157 - accuracy: 0.9976 - val_loss: 0.0719 - val_accuracy: 0.9778\n",
            "Epoch 46/60\n",
            "1688/1688 [==============================] - 5s 3ms/step - loss: 0.0151 - accuracy: 0.9977 - val_loss: 0.0723 - val_accuracy: 0.9777\n",
            "Epoch 47/60\n",
            "1688/1688 [==============================] - 5s 3ms/step - loss: 0.0143 - accuracy: 0.9981 - val_loss: 0.0722 - val_accuracy: 0.9782\n",
            "Epoch 48/60\n",
            "1688/1688 [==============================] - 5s 3ms/step - loss: 0.0137 - accuracy: 0.9982 - val_loss: 0.0733 - val_accuracy: 0.9770\n",
            "Epoch 49/60\n",
            "1688/1688 [==============================] - 5s 3ms/step - loss: 0.0130 - accuracy: 0.9983 - val_loss: 0.0731 - val_accuracy: 0.9778\n",
            "Epoch 50/60\n",
            "1688/1688 [==============================] - 5s 3ms/step - loss: 0.0125 - accuracy: 0.9985 - val_loss: 0.0744 - val_accuracy: 0.9777\n",
            "Epoch 51/60\n",
            "1688/1688 [==============================] - 5s 3ms/step - loss: 0.0120 - accuracy: 0.9986 - val_loss: 0.0734 - val_accuracy: 0.9768\n",
            "Epoch 52/60\n",
            "1688/1688 [==============================] - 5s 3ms/step - loss: 0.0115 - accuracy: 0.9987 - val_loss: 0.0723 - val_accuracy: 0.9775\n",
            "Epoch 53/60\n",
            "1688/1688 [==============================] - 5s 3ms/step - loss: 0.0110 - accuracy: 0.9987 - val_loss: 0.0724 - val_accuracy: 0.9777\n",
            "Epoch 54/60\n",
            "1688/1688 [==============================] - 5s 3ms/step - loss: 0.0106 - accuracy: 0.9990 - val_loss: 0.0718 - val_accuracy: 0.9778\n",
            "Epoch 55/60\n",
            "1688/1688 [==============================] - 5s 3ms/step - loss: 0.0101 - accuracy: 0.9990 - val_loss: 0.0733 - val_accuracy: 0.9788\n",
            "Epoch 56/60\n",
            "1688/1688 [==============================] - 5s 3ms/step - loss: 0.0096 - accuracy: 0.9991 - val_loss: 0.0726 - val_accuracy: 0.9780\n",
            "Epoch 57/60\n",
            "1688/1688 [==============================] - 5s 3ms/step - loss: 0.0093 - accuracy: 0.9990 - val_loss: 0.0736 - val_accuracy: 0.9777\n",
            "Epoch 58/60\n",
            "1688/1688 [==============================] - 5s 3ms/step - loss: 0.0090 - accuracy: 0.9992 - val_loss: 0.0726 - val_accuracy: 0.9780\n",
            "Epoch 59/60\n",
            "1688/1688 [==============================] - 5s 3ms/step - loss: 0.0086 - accuracy: 0.9993 - val_loss: 0.0750 - val_accuracy: 0.9777\n",
            "Epoch 60/60\n",
            "1688/1688 [==============================] - 5s 3ms/step - loss: 0.0083 - accuracy: 0.9992 - val_loss: 0.0738 - val_accuracy: 0.9782\n"
          ]
        }
      ]
    },
    {
      "cell_type": "code",
      "source": [
        "print(model_history.history)\n",
        "print(model_history.params,'\\n')\n"
      ],
      "metadata": {
        "colab": {
          "base_uri": "https://localhost:8080/"
        },
        "id": "MVbve7PR724X",
        "outputId": "0cf2e852-04c4-490c-e72f-459dd284cf4e"
      },
      "execution_count": 35,
      "outputs": [
        {
          "output_type": "stream",
          "name": "stdout",
          "text": [
            "{'loss': [0.6435664296150208, 0.2995857894420624, 0.24616920948028564, 0.21068532764911652, 0.1844361424446106, 0.16438841819763184, 0.14821504056453705, 0.13492678105831146, 0.12356778234243393, 0.11353089660406113, 0.1049271672964096, 0.09748135507106781, 0.09048637002706528, 0.08436892926692963, 0.07907209545373917, 0.07408276200294495, 0.06949292123317719, 0.06493458151817322, 0.06135927513241768, 0.05759361386299133, 0.05453779175877571, 0.05142472684383392, 0.048720989376306534, 0.04582483693957329, 0.04339884966611862, 0.040940701961517334, 0.03884701430797577, 0.03699394688010216, 0.03490518406033516, 0.03311900421977043, 0.03151305392384529, 0.029887596145272255, 0.028370646759867668, 0.0270277988165617, 0.025476699694991112, 0.02428683079779148, 0.023318827152252197, 0.02198190614581108, 0.02095836214721203, 0.019884023815393448, 0.018974067643284798, 0.018243232741951942, 0.017208127304911613, 0.016496647149324417, 0.015659797936677933, 0.01506615336984396, 0.01434245053678751, 0.013699930161237717, 0.013026720844209194, 0.012545369565486908, 0.01200379803776741, 0.011516713537275791, 0.010969175957143307, 0.010598473250865936, 0.010093207471072674, 0.009611289016902447, 0.009314368478953838, 0.008967040106654167, 0.008603863418102264, 0.008258090354502201], 'accuracy': [0.8296111226081848, 0.9142962694168091, 0.9293147921562195, 0.9399444460868835, 0.9476666450500488, 0.9529444575309753, 0.9583518505096436, 0.961981475353241, 0.9645740985870361, 0.9682962894439697, 0.9708518385887146, 0.9731666445732117, 0.975074052810669, 0.9764629602432251, 0.9784629344940186, 0.9796481728553772, 0.9810925722122192, 0.9823889136314392, 0.9830926060676575, 0.9842963218688965, 0.9855185151100159, 0.9863888621330261, 0.9869815111160278, 0.9876296520233154, 0.9888333082199097, 0.989481508731842, 0.9902963042259216, 0.9906666874885559, 0.9912222027778625, 0.9918888807296753, 0.992222249507904, 0.9928703904151917, 0.9935555458068848, 0.993759274482727, 0.9944259524345398, 0.9949073791503906, 0.9950000047683716, 0.9958148002624512, 0.9959074258804321, 0.9963703751564026, 0.9968147873878479, 0.9967036843299866, 0.9970370531082153, 0.9972777962684631, 0.997592568397522, 0.9977407455444336, 0.9980740547180176, 0.9981851577758789, 0.9982592463493347, 0.9984999895095825, 0.9985555410385132, 0.9986851811408997, 0.9987407326698303, 0.998962938785553, 0.9990000128746033, 0.9991481304168701, 0.9990370273590088, 0.9992036819458008, 0.9992592334747314, 0.9991852045059204], 'val_loss': [0.3198792338371277, 0.25444066524505615, 0.21925409138202667, 0.19008946418762207, 0.1711835116147995, 0.15542607009410858, 0.14103549718856812, 0.13441254198551178, 0.1250344216823578, 0.12180003523826599, 0.11031962186098099, 0.10749713331460953, 0.10198481380939484, 0.0972856730222702, 0.09473017603158951, 0.09124457836151123, 0.08932159096002579, 0.08545089513063431, 0.08618968725204468, 0.08362000435590744, 0.08136186003684998, 0.07967277616262436, 0.08013440668582916, 0.07874004542827606, 0.07869677245616913, 0.07790178060531616, 0.07540329545736313, 0.07470077276229858, 0.07325909286737442, 0.07447116822004318, 0.0726502314209938, 0.07386403530836105, 0.07405534386634827, 0.0724811926484108, 0.0721353068947792, 0.07702984660863876, 0.0727173388004303, 0.07323703169822693, 0.07212129980325699, 0.07139203697443008, 0.07152847945690155, 0.07356500625610352, 0.07360436767339706, 0.0718911811709404, 0.07187057286500931, 0.07230600714683533, 0.07218679040670395, 0.07331962883472443, 0.07307761907577515, 0.0744066908955574, 0.07344014197587967, 0.07226055860519409, 0.07244786620140076, 0.0718054249882698, 0.07326143234968185, 0.07264512777328491, 0.07363040000200272, 0.07256019860506058, 0.0750458613038063, 0.07375497370958328], 'val_accuracy': [0.9106666445732117, 0.9275000095367432, 0.9380000233650208, 0.9478333592414856, 0.9524999856948853, 0.956333339214325, 0.9638333320617676, 0.9646666646003723, 0.9668333530426025, 0.9678333401679993, 0.9696666598320007, 0.971666693687439, 0.9725000262260437, 0.9739999771118164, 0.9738333225250244, 0.9735000133514404, 0.9751666784286499, 0.9756666421890259, 0.9746666550636292, 0.9750000238418579, 0.9760000109672546, 0.9768333435058594, 0.9748333096504211, 0.9766666889190674, 0.9754999876022339, 0.9745000004768372, 0.9746666550636292, 0.9764999747276306, 0.9768333435058594, 0.9754999876022339, 0.9768333435058594, 0.9766666889190674, 0.9763333201408386, 0.9768333435058594, 0.9773333072662354, 0.9756666421890259, 0.9764999747276306, 0.9768333435058594, 0.9773333072662354, 0.9776666760444641, 0.9771666526794434, 0.9756666421890259, 0.9771666526794434, 0.9778333306312561, 0.9778333306312561, 0.9776666760444641, 0.9781666398048401, 0.9769999980926514, 0.9778333306312561, 0.9776666760444641, 0.9768333435058594, 0.9775000214576721, 0.9776666760444641, 0.9778333306312561, 0.9788333177566528, 0.9779999852180481, 0.9776666760444641, 0.9779999852180481, 0.9776666760444641, 0.9781666398048401]}\n",
            "{'verbose': 1, 'epochs': 60, 'steps': 1688} \n",
            "\n"
          ]
        }
      ]
    },
    {
      "cell_type": "code",
      "source": [
        "import pandas as pd\n",
        "pd.DataFrame(model_history.history).plot(figsize=(5,5))\n",
        "plt.grid(True)\n",
        "plt.gca().set_ylim(0,1)\n",
        "plt.show()"
      ],
      "metadata": {
        "colab": {
          "base_uri": "https://localhost:8080/",
          "height": 324
        },
        "id": "nKIeXHla4mbo",
        "outputId": "0517fe1f-93b6-4e1f-a447-20a1eac4ca31"
      },
      "execution_count": 37,
      "outputs": [
        {
          "output_type": "display_data",
          "data": {
            "text/plain": [
              "<Figure size 360x360 with 1 Axes>"
            ],
            "image/png": "[encoded data removed]"
          },
          "metadata": {
            "needs_background": "light"
          }
        }
      ]
    },
    {
      "cell_type": "code",
      "source": [
        "model.evaluate(X_test,y_test)"
      ],
      "metadata": {
        "colab": {
          "base_uri": "https://localhost:8080/"
        },
        "id": "AU8W-FLq6yMN",
        "outputId": "82484932-39cb-40a4-aa00-4052031ecc99"
      },
      "execution_count": 38,
      "outputs": [
        {
          "output_type": "stream",
          "name": "stdout",
          "text": [
            "313/313 [==============================] - 1s 2ms/step - loss: 0.0758 - accuracy: 0.9778\n"
          ]
        },
        {
          "output_type": "execute_result",
          "data": {
            "text/plain": [
              "[0.07575652748346329, 0.9778000116348267]"
            ]
          },
          "metadata": {},
          "execution_count": 38
        }
      ]
    },
    {
      "cell_type": "code",
      "source": [
        "X_new=X_test[:5]\n",
        "y_pred=model.predict(X_new)\n",
        "y_pred"
      ],
      "metadata": {
        "colab": {
          "base_uri": "https://localhost:8080/"
        },
        "id": "BbQlgRQn-A2l",
        "outputId": "513865db-f45c-4b83-fc45-64a58c4a9c5a"
      },
      "execution_count": 40,
      "outputs": [
        {
          "output_type": "execute_result",
          "data": {
            "text/plain": [
              "array([[1.6931963e-07, 8.0707956e-09, 6.0516254e-06, 5.3317548e-05,\n",
              "        2.8918992e-09, 5.8416884e-08, 3.0385265e-13, 9.9993491e-01,\n",
              "        1.3141652e-06, 4.1445473e-06],\n",
              "       [5.2356974e-10, 2.9459356e-05, 9.9997032e-01, 2.0445323e-07,\n",
              "        4.8075307e-15, 3.5302874e-09, 2.9501384e-09, 9.7966221e-13,\n",
              "        7.9358742e-10, 6.3470873e-16],\n",
              "       [1.2729379e-08, 9.9946851e-01, 4.7374091e-05, 2.7086744e-06,\n",
              "        7.9009886e-05, 1.0018216e-06, 8.2112780e-07, 1.6157106e-04,\n",
              "        2.3830790e-04, 6.9084405e-07],\n",
              "       [9.9999464e-01, 2.8632444e-10, 7.2075619e-07, 9.8123798e-10,\n",
              "        4.7806126e-10, 7.4956290e-09, 1.2792179e-07, 2.5329132e-06,\n",
              "        4.7927368e-10, 2.0025627e-06],\n",
              "       [3.9407658e-07, 2.1516220e-09, 2.3715030e-08, 1.8740008e-11,\n",
              "        9.9988437e-01, 2.2287421e-09, 1.5511172e-07, 4.2391475e-06,\n",
              "        2.9346833e-08, 1.1074425e-04]], dtype=float32)"
            ]
          },
          "metadata": {},
          "execution_count": 40
        }
      ]
    },
    {
      "cell_type": "code",
      "source": [
        "y_predclass=np.argmax(model.predict(X_new),axis=-1)\n",
        "print('Digits classified for unseen data : ',y_predclass,'\\n')"
      ],
      "metadata": {
        "colab": {
          "base_uri": "https://localhost:8080/"
        },
        "id": "otqCmOxh-Dh-",
        "outputId": "21333c6e-c657-4736-fecb-3ba19e72f099"
      },
      "execution_count": 42,
      "outputs": [
        {
          "output_type": "stream",
          "name": "stdout",
          "text": [
            "Digits classified for unseen data :  [7 2 1 0 4] \n",
            "\n"
          ]
        }
      ]
    },
    {
      "cell_type": "code",
      "source": [
        "r=range(0,5)\n",
        "j=1\n",
        "plt.figure(figsize=(25,23))\n",
        "for i in r:\n",
        "    plt.subplot(2,3,j)\n",
        "    plt.imshow(X_test[i])\n",
        "    j+=1\n",
        "plt.show()\n",
        "print('Digits classified for the same data points : ',y_predclass)"
      ],
      "metadata": {
        "colab": {
          "base_uri": "https://localhost:8080/",
          "height": 1000
        },
        "id": "v34SvMti-JXi",
        "outputId": "0033a5b9-e119-4470-e107-0f7c0ed159a6"
      },
      "execution_count": 43,
      "outputs": [
        {
          "output_type": "display_data",
          "data": {
            "text/plain": [
              "<Figure size 1800x1656 with 5 Axes>"
            ],
            "image/png": "[encoded data removed]"
          },
          "metadata": {
            "needs_background": "light"
          }
        },
        {
          "output_type": "stream",
          "name": "stdout",
          "text": [
            "Digits classified for the same data points :  [7 2 1 0 4]\n"
          ]
        }
      ]
    }
  ]
}